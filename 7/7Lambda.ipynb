{
 "metadata": {
  "language_info": {
   "codemirror_mode": {
    "name": "ipython",
    "version": 3
   },
   "file_extension": ".py",
   "mimetype": "text/x-python",
   "name": "python",
   "nbconvert_exporter": "python",
   "pygments_lexer": "ipython3",
   "version": "3.9.0-final"
  },
  "orig_nbformat": 2,
  "kernelspec": {
   "name": "Python 3.9.0 64-bit",
   "display_name": "Python 3.9.0 64-bit",
   "metadata": {
    "interpreter": {
     "hash": "f895f3828335fe46f73ce365c88adfdf701549b1031659c6fc3c92d79d692c8b"
    }
   }
  }
 },
 "nbformat": 4,
 "nbformat_minor": 2,
 "cells": [
  {
   "cell_type": "code",
   "execution_count": 1,
   "metadata": {},
   "outputs": [
    {
     "output_type": "stream",
     "name": "stdout",
     "text": [
      "6\n"
     ]
    }
   ],
   "source": [
    "#LAMBDA\n",
    "\n",
    "def perkalian(a,b):\n",
    "    print(a*b)\n",
    "perkalian(2,3)"
   ]
  },
  {
   "cell_type": "code",
   "execution_count": 2,
   "metadata": {},
   "outputs": [
    {
     "output_type": "stream",
     "name": "stdout",
     "text": [
      "6\n"
     ]
    }
   ],
   "source": [
    "x = lambda a,b:a*b\n",
    "print(x(2,3))"
   ]
  },
  {
   "cell_type": "code",
   "execution_count": 3,
   "metadata": {},
   "outputs": [
    {
     "output_type": "stream",
     "name": "stdout",
     "text": [
      "1.5\n"
     ]
    }
   ],
   "source": [
    "y = lambda a,b,c:a/b*c\n",
    "print(y(1,2,3))"
   ]
  },
  {
   "cell_type": "code",
   "execution_count": 4,
   "metadata": {},
   "outputs": [
    {
     "output_type": "execute_result",
     "data": {
      "text/plain": [
       "3"
      ]
     },
     "metadata": {},
     "execution_count": 4
    }
   ],
   "source": [
    "def penjumlahan(a,b):\n",
    "    y = lambda a,b:a+b\n",
    "    return y(a,b)\n",
    "penjumlahan(1,2)"
   ]
  },
  {
   "cell_type": "code",
   "execution_count": 5,
   "metadata": {},
   "outputs": [
    {
     "output_type": "stream",
     "name": "stdout",
     "text": [
      "[4, 4, 5]\n"
     ]
    }
   ],
   "source": [
    "#MAP\n",
    "name_list = 'Andi Budi Cacad'.split()\n",
    "\n",
    "def function(a):\n",
    "    return len(a)\n",
    "\n",
    "len_list = list(map(function,name_list))\n",
    "print(len_list)\n"
   ]
  },
  {
   "cell_type": "code",
   "execution_count": 6,
   "metadata": {},
   "outputs": [
    {
     "output_type": "stream",
     "name": "stdout",
     "text": [
      "[4, 4, 5]\n"
     ]
    }
   ],
   "source": [
    "name_list = 'Andi Budi Cacad'.split()\n",
    "#PAKE LAMBDA\n",
    "len_list2 = list(map(lambda a: len(a), name_list))\n",
    "print(len_list2)"
   ]
  },
  {
   "cell_type": "code",
   "execution_count": 7,
   "metadata": {},
   "outputs": [
    {
     "output_type": "stream",
     "name": "stdout",
     "text": [
      "['cokelat10000', 'melon5000', 'nangka20000']\n"
     ]
    }
   ],
   "source": [
    "list_1 = 'cokelat melon nangka'.split()\n",
    "list_2 = [10000, 5000, 20000]\n",
    "couple_list = list(map(lambda a,b : a+str(b),list_1, list_2))\n",
    "print(couple_list)"
   ]
  },
  {
   "cell_type": "code",
   "execution_count": 8,
   "metadata": {},
   "outputs": [
    {
     "output_type": "stream",
     "name": "stdout",
     "text": [
      "[6, 7, 8]\n"
     ]
    }
   ],
   "source": [
    "k = [1,2,3,4,5]\n",
    "l = [1,2,6,7,8]\n",
    "\n",
    "m = list(filter(lambda a:a not in k,l))\n",
    "print(m)"
   ]
  },
  {
   "cell_type": "code",
   "execution_count": 9,
   "metadata": {},
   "outputs": [
    {
     "output_type": "execute_result",
     "data": {
      "text/plain": [
       "'\\nPakAI MAP DAN LAMbda\\n\\ninput=[2,4,6,8]\\noutput = [4,16,36,64]\\n'"
      ]
     },
     "metadata": {},
     "execution_count": 9
    }
   ],
   "source": [
    "#LATIHAN\n",
    "'''\n",
    "PakAI MAP DAN LAMbda\n",
    "\n",
    "input=[2,4,6,8]\n",
    "output = [4,16,36,64]\n",
    "'''\n",
    "# masukkan = [2,4,6,8]\n",
    "# zz = list(map(lambda a: a**2,masukkan))\n",
    "# print(zz)\n",
    "\n"
   ]
  },
  {
   "cell_type": "code",
   "execution_count": 10,
   "metadata": {},
   "outputs": [
    {
     "output_type": "stream",
     "name": "stdout",
     "text": [
      "[0, 1, 2, 3, 4, 5, 6, 7, 8, 9, 10]\n[0, 1, 2, 3, 4]\n[0, 1, 2, 3, 4, 5, 6, 7, 8, 9, 10]\n"
     ]
    }
   ],
   "source": [
    "#FILTER = me return element yang value nya TRUE\n",
    "h = list(range(11))\n",
    "print(h)\n",
    "def kurang_lima(x):\n",
    "    if x<5:\n",
    "        return True\n",
    "    else:\n",
    "        return False\n",
    "j = list(filter(kurang_lima,h))\n",
    "print(j)\n",
    "print(h)"
   ]
  },
  {
   "cell_type": "code",
   "execution_count": 17,
   "metadata": {},
   "outputs": [
    {
     "output_type": "stream",
     "name": "stdout",
     "text": [
      "['merdeka', 'kari ayam', 'mobil', 'kamar', 'motor', 'pertamax', 'merah']\n"
     ]
    }
   ],
   "source": [
    "#QUIZ\n",
    "'''\n",
    "word = ['merdeka', 'hello', 'sohib', 'kari ayam', 'pesawat', 'mobil', 'loker', 'kamar', 'saya', 'motor', 'pertamax', 'merah']\n",
    "what do you want to search : 'me'\n",
    "output = ['merdeka','merah']\n",
    "what do you want to search : 'tw'\n",
    "output = []\n",
    "'''\n",
    "\n",
    "word = ['merdeka', 'hello', 'sohib', 'kari ayam', 'pesawat', 'mobil', 'loker', 'kamar', 'saya', 'motor', 'pertamax', 'merah']\n",
    "cari = str(input('what do you want to search :'))\n",
    "hasil = filter(lambda a: cari in a,word)\n",
    "print(list(hasil))"
   ]
  },
  {
   "cell_type": "code",
   "execution_count": 16,
   "metadata": {},
   "outputs": [
    {
     "output_type": "stream",
     "name": "stdout",
     "text": [
      "kataibubudi\n"
     ]
    }
   ],
   "source": [
    "from functools import\n",
    "kata = 'kata ibu budi'.split()\n",
    "o = reduce(lambda a,b:a+b,kata)\n",
    "print(o)"
   ]
  },
  {
   "cell_type": "code",
   "execution_count": 13,
   "metadata": {},
   "outputs": [
    {
     "output_type": "error",
     "ename": "SyntaxError",
     "evalue": "EOF while scanning triple-quoted string literal (<ipython-input-13-0e7921588d40>, line 18)",
     "traceback": [
      "\u001b[1;36m  File \u001b[1;32m\"<ipython-input-13-0e7921588d40>\"\u001b[1;36m, line \u001b[1;32m18\u001b[0m\n\u001b[1;33m    12\u001b[0m\n\u001b[1;37m      \n^\u001b[0m\n\u001b[1;31mSyntaxError\u001b[0m\u001b[1;31m:\u001b[0m EOF while scanning triple-quoted string literal\n"
     ]
    }
   ],
   "source": [
    "'''\n",
    "QUIZ lagi :(\n",
    "input = range[1-100]\n",
    "\n",
    "output = 5100\n",
    "\n",
    "rules = bilangan harus genap semua, dikalikan 2, baru dijumlah semua.\n",
    "challenge = kalo bisa cuman 1 line #point 3.\n",
    "clue = pakai reduce, filter dan map.\n",
    "\n",
    "misal \n",
    "[1,2,3,4]\n",
    "cari genapnya\n",
    "[2,4]\n",
    "dikali 2\n",
    "[4,8]\n",
    "dijumlah\n",
    "12"
   ]
  },
  {
   "cell_type": "code",
   "execution_count": 14,
   "metadata": {},
   "outputs": [
    {
     "output_type": "stream",
     "name": "stdout",
     "text": [
      "Genap\nGanjil\n"
     ]
    }
   ],
   "source": [
    "z = lambda a:'Genap' if a%2==0 else 'Ganjil'\n",
    "print(z(4))\n",
    "print(z(3))"
   ]
  },
  {
   "cell_type": "code",
   "execution_count": 15,
   "metadata": {},
   "outputs": [
    {
     "output_type": "stream",
     "name": "stdout",
     "text": [
      "20\n"
     ]
    }
   ],
   "source": [
    "#REDUCE\n",
    "from functools import reduce\n",
    "numbers = [6,2,3,4,5]\n",
    "numbers_sum = reduce(lambda a,b :a+b,numbers)\n",
    "print(numbers_sum)"
   ]
  },
  {
   "cell_type": "code",
   "execution_count": 100,
   "metadata": {},
   "outputs": [
    {
     "output_type": "stream",
     "name": "stdout",
     "text": [
      "5100\n"
     ]
    }
   ],
   "source": [
    "from functools import reduce\n",
    "angka = list(range(1,101))\n",
    "even=[]\n",
    "for i in angka:\n",
    "    if i % 2==0:\n",
    "        even.append(i)\n",
    "# print(even)\n",
    "sample = list(map(lambda a:a*2,even))\n",
    "# print(sample)\n",
    "sum = reduce(lambda a,b:a+b,sample)\n",
    "print(sum)"
   ]
  },
  {
   "cell_type": "code",
   "execution_count": 23,
   "metadata": {},
   "outputs": [
    {
     "output_type": "stream",
     "name": "stdout",
     "text": [
      "5100\n"
     ]
    }
   ],
   "source": [
    "from functools import reduce\n",
    "print(reduce(lambda a,b:a+b, map(lambda a:a*2, filter(lambda a:a%2==0,(range(1,101))))))"
   ]
  },
  {
   "cell_type": "code",
   "execution_count": 1,
   "metadata": {},
   "outputs": [
    {
     "output_type": "stream",
     "name": "stdout",
     "text": [
      "[(0, 'andi'), (1, 'budi'), (2, 'caca')]\n"
     ]
    }
   ],
   "source": [
    "a = 'andi budi caca'.split()\n",
    "print(list(enumerate(a)))"
   ]
  },
  {
   "cell_type": "code",
   "execution_count": null,
   "metadata": {},
   "outputs": [],
   "source": []
  }
 ]
}