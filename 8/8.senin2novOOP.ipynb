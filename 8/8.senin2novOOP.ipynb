{
 "metadata": {
  "language_info": {
   "codemirror_mode": {
    "name": "ipython",
    "version": 3
   },
   "file_extension": ".py",
   "mimetype": "text/x-python",
   "name": "python",
   "nbconvert_exporter": "python",
   "pygments_lexer": "ipython3",
   "version": "3.9.0-final"
  },
  "orig_nbformat": 2,
  "kernelspec": {
   "name": "Python 3.9.0 64-bit",
   "display_name": "Python 3.9.0 64-bit",
   "metadata": {
    "interpreter": {
     "hash": "f895f3828335fe46f73ce365c88adfdf701549b1031659c6fc3c92d79d692c8b"
    }
   }
  }
 },
 "nbformat": 4,
 "nbformat_minor": 2,
 "cells": [
  {
   "cell_type": "code",
   "execution_count": 11,
   "metadata": {},
   "outputs": [
    {
     "output_type": "stream",
     "name": "stdout",
     "text": [
      "Ridho\ngaji sebelum dinaikin 1000000\nridho.prtama@company.com\nRidho Prtama\n<bound method Employee.fullname of <__main__.Employee object at 0x000002AEA7E05070>>\nNone\ngaji setelah dinaikin 1100000\nTerawan\n2000000\n\n    Employee Class adaalah Class untuk membuat object pegawai\n    \n"
     ]
    }
   ],
   "source": [
    "class Employee:\n",
    "    '''\n",
    "    Employee Class adaalah Class untuk membuat object pegawai\n",
    "    '''\n",
    "    def __init__(self,first,last,pay):\n",
    "        self.firstname = first\n",
    "        self.lastname = last\n",
    "        self.payment = pay\n",
    "\n",
    "        self.email = f'{first.lower()}.{last.lower()}@company.com'\n",
    "    \n",
    "    def fullname(self):\n",
    "        return f'{self.firstname} {self.lastname}'\n",
    "\n",
    "    def apply_raise(self):\n",
    "        self.payment = int(self.payment * 1.10)\n",
    "\n",
    "emp_1 = Employee('Ridho','Prtama',1000000)\n",
    "emp_2 = Employee('Terawan','Menkes',2000000)\n",
    "Ridho_name = emp_1.fullname\n",
    "\n",
    "\n",
    "emp_1.name = 'Budi'\n",
    "emp_1.pay = 1000000\n",
    "\n",
    "print(emp_1.firstname)\n",
    "print('gaji sebelum dinaikin', emp_1.payment)\n",
    "print(emp_1.email)\n",
    "print(emp_1.fullname())\n",
    "print(Ridho_name)\n",
    "print(emp_1.apply_raise())\n",
    "print('gaji setelah dinaikin', emp_1.payment)\n",
    "\n",
    "print(emp_2.firstname)\n",
    "print(emp_2.payment)\n",
    "\n",
    "print(Employee.__doc__)\n"
   ]
  },
  {
   "cell_type": "code",
   "execution_count": 7,
   "metadata": {},
   "outputs": [
    {
     "output_type": "stream",
     "name": "stdout",
     "text": [
      "Hanya Testing\n"
     ]
    }
   ],
   "source": [
    "def testing():\n",
    "    '''Hanya Testing'''\n",
    "    pass\n",
    "print(testing.__doc__)"
   ]
  },
  {
   "cell_type": "code",
   "execution_count": null,
   "metadata": {},
   "outputs": [],
   "source": []
  }
 ]
}