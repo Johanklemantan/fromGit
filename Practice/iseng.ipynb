{
 "metadata": {
  "language_info": {
   "codemirror_mode": {
    "name": "ipython",
    "version": 3
   },
   "file_extension": ".py",
   "mimetype": "text/x-python",
   "name": "python",
   "nbconvert_exporter": "python",
   "pygments_lexer": "ipython3",
   "version": "3.9.0-final"
  },
  "orig_nbformat": 2,
  "kernelspec": {
   "name": "Python 3.9.0 64-bit",
   "display_name": "Python 3.9.0 64-bit",
   "metadata": {
    "interpreter": {
     "hash": "f895f3828335fe46f73ce365c88adfdf701549b1031659c6fc3c92d79d692c8b"
    }
   }
  }
 },
 "nbformat": 4,
 "nbformat_minor": 2,
 "cells": [
  {
   "cell_type": "code",
   "execution_count": 7,
   "metadata": {},
   "outputs": [
    {
     "output_type": "stream",
     "name": "stdout",
     "text": [
      "9\n"
     ]
    },
    {
     "output_type": "error",
     "ename": "NameError",
     "evalue": "name 'z' is not defined",
     "traceback": [
      "\u001b[1;31m---------------------------------------------------------------------------\u001b[0m",
      "\u001b[1;31mNameError\u001b[0m                                 Traceback (most recent call last)",
      "\u001b[1;32m<ipython-input-7-0399a0485c7c>\u001b[0m in \u001b[0;36m<module>\u001b[1;34m\u001b[0m\n\u001b[0;32m      3\u001b[0m     \u001b[1;32mreturn\u001b[0m \u001b[0mz\u001b[0m\u001b[1;33m\u001b[0m\u001b[1;33m\u001b[0m\u001b[0m\n\u001b[0;32m      4\u001b[0m \u001b[0mprint\u001b[0m\u001b[1;33m(\u001b[0m\u001b[0mtotal\u001b[0m\u001b[1;33m(\u001b[0m\u001b[1;36m4\u001b[0m\u001b[1;33m,\u001b[0m\u001b[1;36m5\u001b[0m\u001b[1;33m)\u001b[0m\u001b[1;33m)\u001b[0m\u001b[1;33m\u001b[0m\u001b[1;33m\u001b[0m\u001b[0m\n\u001b[1;32m----> 5\u001b[1;33m \u001b[0mprint\u001b[0m\u001b[1;33m(\u001b[0m\u001b[0mz\u001b[0m\u001b[1;33m)\u001b[0m\u001b[1;33m\u001b[0m\u001b[1;33m\u001b[0m\u001b[0m\n\u001b[0m",
      "\u001b[1;31mNameError\u001b[0m: name 'z' is not defined"
     ]
    }
   ],
   "source": [
    "def total(x,y) :\n",
    "    z = x + y\n",
    "    return z\n",
    "print(total(4,5))\n",
    "print(z)\n"
   ]
  },
  {
   "cell_type": "code",
   "execution_count": 63,
   "metadata": {},
   "outputs": [
    {
     "output_type": "execute_result",
     "data": {
      "text/plain": [
       "['_', '_', '_', '_', '_', '_', '_']"
      ]
     },
     "metadata": {},
     "execution_count": 63
    }
   ],
   "source": [
    "a = '_ _ _ _ _ _ _'\n",
    "a.split(' ')"
   ]
  },
  {
   "cell_type": "code",
   "execution_count": 24,
   "metadata": {},
   "outputs": [
    {
     "output_type": "stream",
     "name": "stdout",
     "text": [
      "(0, '_')\n(1, '_')\n(2, '_')\n(3, '_')\n(4, '_')\n(5, '_')\n(6, '_')\n_ _ _ _ _ _ _\n"
     ]
    }
   ],
   "source": [
    "list_1 = ['_', '_', '_', '_', '_', '_', '_']\n",
    "# for i,j in range(len(list_1)):\n",
    "#     print(list_1[i,j])\n",
    "for i in enumerate(list_1):\n",
    "    print (i)\n",
    "x = ' '.join(list_1)\n",
    "print(x)\n"
   ]
  },
  {
   "cell_type": "code",
   "execution_count": 26,
   "metadata": {},
   "outputs": [
    {
     "output_type": "stream",
     "name": "stdout",
     "text": [
      "70\n600\n"
     ]
    }
   ],
   "source": [
    "def multiplies(x,y):\n",
    "    if x*y < 1000:\n",
    "        print(x*y)\n",
    "    else :\n",
    "        print(x+y) \n",
    "multiplies(30,40)\n",
    "multiplies(20,30)"
   ]
  },
  {
   "cell_type": "code",
   "execution_count": 73,
   "metadata": {},
   "outputs": [
    {
     "output_type": "stream",
     "name": "stdout",
     "text": [
      "Current Number 0 Previous Number 0 Sum : 0\nCurrent Number 1 Previous Number 0 Sum : 1\nCurrent Number 2 Previous Number 1 Sum : 3\nCurrent Number 3 Previous Number 2 Sum : 5\nCurrent Number 4 Previous Number 3 Sum : 7\nCurrent Number 5 Previous Number 4 Sum : 9\nCurrent Number 6 Previous Number 5 Sum : 11\nCurrent Number 7 Previous Number 6 Sum : 13\nCurrent Number 8 Previous Number 7 Sum : 15\nCurrent Number 9 Previous Number 8 Sum : 17\n"
     ]
    }
   ],
   "source": [
    "for i in range(0,10):\n",
    "    if i == 0:\n",
    "        print(f'Current Number {i} Previous Number {i} Sum : {i+i}')\n",
    "    else:\n",
    "        print(f'Current Number {i} Previous Number {i-1} Sum : {i+(i-1)}')\n",
    "    "
   ]
  },
  {
   "cell_type": "code",
   "execution_count": 74,
   "metadata": {},
   "outputs": [
    {
     "output_type": "stream",
     "name": "stdout",
     "text": [
      "Current Number 0 Previous Number 0 Sum : 0\nCurrent Number 1 Previous Number 0 Sum : 1\nCurrent Number 2 Previous Number 1 Sum : 3\nCurrent Number 3 Previous Number 2 Sum : 5\nCurrent Number 4 Previous Number 3 Sum : 7\nCurrent Number 5 Previous Number 4 Sum : 9\nCurrent Number 6 Previous Number 5 Sum : 11\nCurrent Number 7 Previous Number 6 Sum : 13\nCurrent Number 8 Previous Number 7 Sum : 15\nCurrent Number 9 Previous Number 8 Sum : 17\n"
     ]
    }
   ],
   "source": [
    "def sum(x):\n",
    "    prev_number = 0\n",
    "    for i in range(x):\n",
    "        sum = prev_number + i\n",
    "        print(f'Current Number {i} Previous Number {prev_number} Sum : {sum}')\n",
    "        prev_number = i\n",
    "sum(10)"
   ]
  },
  {
   "cell_type": "code",
   "execution_count": 59,
   "metadata": {},
   "outputs": [
    {
     "output_type": "error",
     "ename": "SyntaxError",
     "evalue": "invalid syntax (<ipython-input-59-b957a6223f9f>, line 2)",
     "traceback": [
      "\u001b[1;36m  File \u001b[1;32m\"<ipython-input-59-b957a6223f9f>\"\u001b[1;36m, line \u001b[1;32m2\u001b[0m\n\u001b[1;33m    i in enumerate(x) if i%2==0:\u001b[0m\n\u001b[1;37m                               ^\u001b[0m\n\u001b[1;31mSyntaxError\u001b[0m\u001b[1;31m:\u001b[0m invalid syntax\n"
     ]
    }
   ],
   "source": [
    "def even_string(x):\n",
    "    i in enumerate(x) if i%2==0:\n",
    "        print(i)\n",
    "even_string('pynative')"
   ]
  },
  {
   "cell_type": "code",
   "execution_count": 105,
   "metadata": {},
   "outputs": [
    {
     "output_type": "stream",
     "name": "stdout",
     "text": [
      "Blueband\n['B', 'l', 'u', 'e', 'b', 'a', 'n', 'd']\n[0, 1, 2, 3, 4, 5, 6, 7]\n[(0, 'B'), (1, 'l'), (2, 'u'), (3, 'e'), (4, 'b'), (5, 'a'), (6, 'n'), (7, 'd')]\n[(0, 'B'), (1, 'l'), (2, 'u'), (3, 'e'), (4, 'b'), (5, 'a'), (6, 'n'), (7, 'd')]\nOriginal String is Blueband\nPrinting only even index chars\nB\nu\nb\nn\n"
     ]
    }
   ],
   "source": [
    "a = 'Blueband'\n",
    "b = list(a)\n",
    "c = [i for i,j in enumerate (b)]\n",
    "d = [i for i in enumerate (b)]\n",
    "e = [k for k in enumerate (b)]\n",
    "print(a)\n",
    "print(b)\n",
    "print(c)\n",
    "print(d)\n",
    "print(e)\n",
    "def even_string(x):\n",
    "    print(f'Original String is {a}')\n",
    "    print('Printing only even index chars')\n",
    "    for i in c:\n",
    "        if i%2==0:\n",
    "            print(a[i])\n",
    "even_string(a)"
   ]
  },
  {
   "cell_type": "code",
   "execution_count": 107,
   "metadata": {},
   "outputs": [
    {
     "output_type": "stream",
     "name": "stdout",
     "text": [
      "tive\n"
     ]
    }
   ],
   "source": [
    "def remove(x,y):\n",
    "    if y <= len(x):\n",
    "        print(x[y:])\n",
    "    else:\n",
    "        print(x)\n",
    "remove('pynative',4)"
   ]
  },
  {
   "cell_type": "code",
   "execution_count": 17,
   "metadata": {},
   "outputs": [
    {
     "output_type": "stream",
     "name": "stdout",
     "text": [
      "Given list is [10, 20, 30, 40, 10]\nResult is True\n"
     ]
    }
   ],
   "source": [
    "def list_number(x):\n",
    "    # b = len(list_number)\n",
    "    print(f'Given list is {a}')\n",
    "    if a[0] == a[-1]:\n",
    "        print('Result is True')\n",
    "    else:\n",
    "        print('Result is False')\n",
    "a = [10,20,30,40,10]       \n",
    "list_number(a)\n"
   ]
  },
  {
   "cell_type": "code",
   "execution_count": 45,
   "metadata": {},
   "outputs": [
    {
     "output_type": "stream",
     "name": "stdout",
     "text": [
      "[10, 20, 30, 40, 10]\n[10, 20, 30, 40, 10]\n[10, 40, 30, 20, 10]\n"
     ]
    }
   ],
   "source": [
    "list_number = [10,20,30,40,10]\n",
    "print(list_number)\n",
    "print(list_number[0::])\n",
    "print(list_number[::-1])"
   ]
  },
  {
   "cell_type": "code",
   "execution_count": 18,
   "metadata": {},
   "outputs": [
    {
     "output_type": "stream",
     "name": "stdout",
     "text": [
      "Given list is [10, 20, 30, 40, 10]\nResult is True\n"
     ]
    }
   ],
   "source": [
    "def list_number(x):\n",
    "    # b = len(list_number)\n",
    "    print(f'Given list is {x}')\n",
    "    if x[0] == x[-1]:\n",
    "        print('Result is True')\n",
    "    else:\n",
    "        print('Result is False')\n",
    "# a = [10,20,30,40,10]       \n",
    "list_number([10,20,30,40,10])"
   ]
  },
  {
   "cell_type": "code",
   "execution_count": 20,
   "metadata": {},
   "outputs": [
    {
     "output_type": "stream",
     "name": "stdout",
     "text": [
      "Given list is [10, 20, 33, 46, 55] \nDivisible of 5 in a list\n10\n20\n55\n"
     ]
    }
   ],
   "source": [
    "def divided_by5(x):\n",
    "    print(f'Given list is {x} \\nDivisible of 5 in a list')\n",
    "    for i in x:\n",
    "        if i % 5 ==0:\n",
    "            print(i)\n",
    "divided_by5([10,20,33,46,55])"
   ]
  },
  {
   "cell_type": "code",
   "execution_count": 27,
   "metadata": {},
   "outputs": [
    {
     "output_type": "stream",
     "name": "stdout",
     "text": [
      "Emma appeared 4 times\n"
     ]
    }
   ],
   "source": [
    "def Howmanyappear(x):\n",
    "    a = x.split(' ')\n",
    "    count = 0\n",
    "    for i in a:\n",
    "        if i == 'Emma':\n",
    "            count +=1\n",
    "    print(f'Emma appeared {count} times')\n",
    "Howmanyappear('Emma is good developer. Emma is a writer. Emma is my siblings. Emma is beautiful')\n"
   ]
  },
  {
   "cell_type": "code",
   "execution_count": 30,
   "metadata": {},
   "outputs": [
    {
     "output_type": "stream",
     "name": "stdout",
     "text": [
      "Emma appeared 4 times\n"
     ]
    }
   ],
   "source": [
    "def Howmanyappear(x):\n",
    "    a = x.count('Emma')\n",
    "    print(f'Emma appeared {a} times')\n",
    "Howmanyappear('Emma is good developer. Emma is a writer. Emma is my siblings. Emma is beautiful')"
   ]
  },
  {
   "cell_type": "code",
   "execution_count": 34,
   "metadata": {},
   "outputs": [
    {
     "output_type": "stream",
     "name": "stdout",
     "text": [
      "\n1 \n2 2 \n3 3 3 \n4 4 4 4 \n5 5 5 5 5 \n"
     ]
    }
   ],
   "source": [
    "for i in range(6):\n",
    "    for j in range (0,i):\n",
    "        print(i, end = ' ')\n",
    "    print('')"
   ]
  },
  {
   "cell_type": "code",
   "execution_count": 52,
   "metadata": {},
   "outputs": [
    {
     "output_type": "stream",
     "name": "stdout",
     "text": [
      "Original Number 121\nThe original and reverse number is the same\n"
     ]
    }
   ],
   "source": [
    "def reverse_number(x):\n",
    "    print(f'Original Number {x}')\n",
    "    if x[0::] == x[::-1]:\n",
    "        print('The original and reverse number is the same')\n",
    "    else:\n",
    "        print('The original and reverse number is not same')\n",
    "reverse_number('121')"
   ]
  },
  {
   "cell_type": "code",
   "execution_count": 53,
   "metadata": {},
   "outputs": [
    {
     "output_type": "stream",
     "name": "stdout",
     "text": [
      "121\n121\n"
     ]
    }
   ],
   "source": [
    "x = '121'\n",
    "print(x[0::])\n",
    "print(x[::-1])"
   ]
  },
  {
   "cell_type": "code",
   "execution_count": 58,
   "metadata": {},
   "outputs": [
    {
     "output_type": "error",
     "ename": "TypeError",
     "evalue": "unsupported operand type(s) for %: 'list' and 'int'",
     "traceback": [
      "\u001b[1;31m---------------------------------------------------------------------------\u001b[0m",
      "\u001b[1;31mTypeError\u001b[0m                                 Traceback (most recent call last)",
      "\u001b[1;32m<ipython-input-58-f511de4d8d31>\u001b[0m in \u001b[0;36m<module>\u001b[1;34m\u001b[0m\n\u001b[0;32m     13\u001b[0m \u001b[0ma\u001b[0m \u001b[1;33m=\u001b[0m \u001b[1;33m[\u001b[0m\u001b[1;36m10\u001b[0m\u001b[1;33m,\u001b[0m\u001b[1;36m20\u001b[0m\u001b[1;33m,\u001b[0m\u001b[1;36m23\u001b[0m\u001b[1;33m,\u001b[0m\u001b[1;36m11\u001b[0m\u001b[1;33m,\u001b[0m\u001b[1;36m17\u001b[0m\u001b[1;33m]\u001b[0m\u001b[1;33m\u001b[0m\u001b[1;33m\u001b[0m\u001b[0m\n\u001b[0;32m     14\u001b[0m \u001b[0mb\u001b[0m \u001b[1;33m=\u001b[0m \u001b[1;33m[\u001b[0m\u001b[1;36m13\u001b[0m\u001b[1;33m,\u001b[0m\u001b[1;36m43\u001b[0m\u001b[1;33m,\u001b[0m\u001b[1;36m24\u001b[0m\u001b[1;33m,\u001b[0m\u001b[1;36m36\u001b[0m\u001b[1;33m,\u001b[0m\u001b[1;36m12\u001b[0m\u001b[1;33m]\u001b[0m\u001b[1;33m\u001b[0m\u001b[1;33m\u001b[0m\u001b[0m\n\u001b[1;32m---> 15\u001b[1;33m \u001b[0mcombine_list\u001b[0m\u001b[1;33m(\u001b[0m\u001b[0ma\u001b[0m\u001b[1;33m,\u001b[0m\u001b[0mb\u001b[0m\u001b[1;33m)\u001b[0m\u001b[1;33m\u001b[0m\u001b[1;33m\u001b[0m\u001b[0m\n\u001b[0m",
      "\u001b[1;32m<ipython-input-58-f511de4d8d31>\u001b[0m in \u001b[0;36mcombine_list\u001b[1;34m(x, y)\u001b[0m\n\u001b[0;32m      2\u001b[0m \u001b[1;32mdef\u001b[0m \u001b[0mcombine_list\u001b[0m\u001b[1;33m(\u001b[0m\u001b[0mx\u001b[0m\u001b[1;33m,\u001b[0m\u001b[0my\u001b[0m\u001b[1;33m)\u001b[0m\u001b[1;33m:\u001b[0m\u001b[1;33m\u001b[0m\u001b[1;33m\u001b[0m\u001b[0m\n\u001b[0;32m      3\u001b[0m     \u001b[1;32mfor\u001b[0m \u001b[0mi\u001b[0m \u001b[1;32min\u001b[0m \u001b[0mx\u001b[0m\u001b[1;33m:\u001b[0m\u001b[1;33m\u001b[0m\u001b[1;33m\u001b[0m\u001b[0m\n\u001b[1;32m----> 4\u001b[1;33m         \u001b[1;32mif\u001b[0m \u001b[0mi\u001b[0m \u001b[1;32min\u001b[0m \u001b[0mx\u001b[0m \u001b[1;33m%\u001b[0m \u001b[1;36m2\u001b[0m \u001b[1;33m==\u001b[0m \u001b[1;36m1\u001b[0m\u001b[1;33m:\u001b[0m\u001b[1;33m\u001b[0m\u001b[1;33m\u001b[0m\u001b[0m\n\u001b[0m\u001b[0;32m      5\u001b[0m             \u001b[0mcombine\u001b[0m \u001b[1;33m+=\u001b[0m \u001b[0mi\u001b[0m\u001b[1;33m\u001b[0m\u001b[1;33m\u001b[0m\u001b[0m\n\u001b[0;32m      6\u001b[0m         \u001b[1;32melse\u001b[0m\u001b[1;33m:\u001b[0m\u001b[1;33m\u001b[0m\u001b[1;33m\u001b[0m\u001b[0m\n",
      "\u001b[1;31mTypeError\u001b[0m: unsupported operand type(s) for %: 'list' and 'int'"
     ]
    }
   ],
   "source": [
    "combine = []\n",
    "def combine_list(x,y):\n",
    "    for i in x:\n",
    "        if i in x % 2 == 1:\n",
    "            combine += i\n",
    "        else:\n",
    "            continue\n",
    "    for j in y:\n",
    "        if j in y % 2 == 0:\n",
    "            combine +=j\n",
    "        else:\n",
    "            continue\n",
    "a = [10,20,23,11,17]\n",
    "b = [13,43,24,36,12]\n",
    "combine_list(a,b)"
   ]
  },
  {
   "cell_type": "code",
   "execution_count": 56,
   "metadata": {},
   "outputs": [
    {
     "output_type": "stream",
     "name": "stdout",
     "text": [
      "[1, 2, 3] [4, 5, 6]\n"
     ]
    }
   ],
   "source": [
    "a = [1,2,3]\n",
    "b = [4,5,6]\n",
    "print(a,b)"
   ]
  },
  {
   "cell_type": "code",
   "execution_count": null,
   "metadata": {},
   "outputs": [],
   "source": []
  }
 ]
}