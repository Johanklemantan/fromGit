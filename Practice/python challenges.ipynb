{
 "metadata": {
  "language_info": {
   "codemirror_mode": {
    "name": "ipython",
    "version": 3
   },
   "file_extension": ".py",
   "mimetype": "text/x-python",
   "name": "python",
   "nbconvert_exporter": "python",
   "pygments_lexer": "ipython3",
   "version": "3.9.0-final"
  },
  "orig_nbformat": 2,
  "kernelspec": {
   "name": "Python 3.9.0 64-bit",
   "display_name": "Python 3.9.0 64-bit",
   "metadata": {
    "interpreter": {
     "hash": "f895f3828335fe46f73ce365c88adfdf701549b1031659c6fc3c92d79d692c8b"
    }
   }
  }
 },
 "nbformat": 4,
 "nbformat_minor": 2,
 "cells": [
  {
   "cell_type": "code",
   "execution_count": 19,
   "metadata": {},
   "outputs": [
    {
     "output_type": "stream",
     "name": "stdout",
     "text": [
      "True\n"
     ]
    }
   ],
   "source": [
    "#https://www.w3resource.com/python-exercises/challenges/1/index.php\n",
    "#1\n",
    "num = int(input('Enter a number :'))\n",
    "hasil = []\n",
    "for i in range(1,1001):\n",
    "    hasil.append(2**i)\n",
    "\n",
    "# print(hasil)\n",
    "if num in hasil:\n",
    "    print(True)\n",
    "else:\n",
    "    print(False)\n"
   ]
  },
  {
   "cell_type": "code",
   "execution_count": 29,
   "metadata": {},
   "outputs": [
    {
     "output_type": "stream",
     "name": "stdout",
     "text": [
      "  1 \n  2   1 \n  4   2   1 \n  8   4   2   1 \n 16   8   4   2   1 \n 32  16   8   4   2   1 \n 64  32  16   8   4   2   1 \n128  64  32  16   8   4   2   1 \n"
     ]
    }
   ],
   "source": [
    "rows = 9\n",
    "for i in range(1, rows):\n",
    "    for j in range(-1+i, -1, -1):\n",
    "        print(format(2**j, \"3d\"), end=' ')\n",
    "    print(\"\")"
   ]
  },
  {
   "cell_type": "code",
   "execution_count": 30,
   "metadata": {},
   "outputs": [
    {
     "output_type": "stream",
     "name": "stdout",
     "text": [
      "   1 \n   1    2    1 \n   1    2    4    2    1 \n   1    2    4    8    4    2    1 \n   1    2    4    8   16    8    4    2    1 \n   1    2    4    8   16   32   16    8    4    2    1 \n   1    2    4    8   16   32   64   32   16    8    4    2    1 \n   1    2    4    8   16   32   64  128   64   32   16    8    4    2    1 \n"
     ]
    }
   ],
   "source": [
    "rows = 9\n",
    "for i in range(1, rows):\n",
    "    for i in range(0, i, 1):\n",
    "        print(format(2 ** i, \"4d\"), end=' ')\n",
    "    for i in range(-1 + i, -1, -1):\n",
    "        print(format(2 ** i, \"4d\"), end=' ')\n",
    "    print(\"\")"
   ]
  },
  {
   "cell_type": "code",
   "execution_count": 31,
   "metadata": {},
   "outputs": [
    {
     "output_type": "stream",
     "name": "stdout",
     "text": [
      "P\nPu\nPur\nPurw\nPurwa\nPurwad\nPurwadh\nPurwadhi\nPurwadhik\nPurwadhika\n"
     ]
    }
   ],
   "source": [
    "word = 'Purwadhika'\n",
    "x = ''\n",
    "for i in word:\n",
    "    x+=i\n",
    "    print(x)"
   ]
  },
  {
   "cell_type": "code",
   "execution_count": 34,
   "metadata": {},
   "outputs": [
    {
     "output_type": "stream",
     "name": "stdout",
     "text": [
      "Print equilateral triangle Pyramid with characters \n          A  \n         B C  \n        D E F  \n       G H I J  \n      K L M N O  \n     P Q R S T U  \n"
     ]
    }
   ],
   "source": [
    "print(\"Print equilateral triangle Pyramid with characters \")\n",
    "size = 6\n",
    "asciiNumber = 65\n",
    "m = (2 * size) - 2\n",
    "for i in range(0, size):\n",
    "    for j in range(0, m):\n",
    "        print(end=\" \")\n",
    "    m = m - 1\n",
    "    for j in range(0, i + 1):\n",
    "        character = chr(asciiNumber)\n",
    "        print(character, end=' ')\n",
    "        asciiNumber += 1\n",
    "    print(\" \")"
   ]
  },
  {
   "cell_type": "code",
   "execution_count": 37,
   "metadata": {},
   "outputs": [
    {
     "output_type": "stream",
     "name": "stdout",
     "text": [
      "Print Alphabets and Letters pattern in Python \nA  \nB C  \nD E F  \nG H I J  \nK L M N O  \n"
     ]
    }
   ],
   "source": [
    "print(\"Print Alphabets and Letters pattern in Python \")\n",
    "asciiNumber = 65\n",
    "for i in range(0, 5):\n",
    "    for j in range(0, i + 1):\n",
    "        character = chr(asciiNumber)\n",
    "        print(character, end=' ')\n",
    "        asciiNumber += 1\n",
    "    print(\" \")"
   ]
  },
  {
   "cell_type": "code",
   "execution_count": 40,
   "metadata": {},
   "outputs": [
    {
     "output_type": "error",
     "ename": "TypeError",
     "evalue": "'int' object is not subscriptable",
     "traceback": [
      "\u001b[1;31m---------------------------------------------------------------------------\u001b[0m",
      "\u001b[1;31mTypeError\u001b[0m                                 Traceback (most recent call last)",
      "\u001b[1;32m<ipython-input-40-a89dae325064>\u001b[0m in \u001b[0;36m<module>\u001b[1;34m\u001b[0m\n\u001b[0;32m      3\u001b[0m \u001b[1;32mfor\u001b[0m \u001b[0mi\u001b[0m \u001b[1;32min\u001b[0m \u001b[0mmasuk\u001b[0m\u001b[1;33m:\u001b[0m\u001b[1;33m\u001b[0m\u001b[1;33m\u001b[0m\u001b[0m\n\u001b[0;32m      4\u001b[0m     \u001b[1;32mif\u001b[0m \u001b[0mi\u001b[0m \u001b[1;33m==\u001b[0m \u001b[1;36m0\u001b[0m\u001b[1;33m:\u001b[0m\u001b[1;33m\u001b[0m\u001b[1;33m\u001b[0m\u001b[0m\n\u001b[1;32m----> 5\u001b[1;33m         \u001b[0mi\u001b[0m\u001b[1;33m[\u001b[0m\u001b[1;33m-\u001b[0m\u001b[1;36m1\u001b[0m\u001b[1;33m]\u001b[0m\u001b[1;33m\u001b[0m\u001b[1;33m\u001b[0m\u001b[0m\n\u001b[0m",
      "\u001b[1;31mTypeError\u001b[0m: 'int' object is not subscriptable"
     ]
    }
   ],
   "source": [
    "#27\n",
    "masuk = [0,2,3,4,6,7,10]\n",
    "for i in masuk:\n",
    "    if i == 0:\n",
    "        i[-1]"
   ]
  },
  {
   "cell_type": "code",
   "execution_count": 49,
   "metadata": {},
   "outputs": [
    {
     "output_type": "stream",
     "name": "stdout",
     "text": [
      "[2, 3, 4, 6, 7, 10]\n[0]\n[2, 3, 4, 6, 7, 10, 0]\n"
     ]
    }
   ],
   "source": [
    "def move_zero(num_list):\n",
    "    a = [0 for i in range(num_list.count(0))]\n",
    "    x = [ i for i in num_list if i != 0]\n",
    "    print(x)\n",
    "    x.extend(a)\n",
    "    print(a)\n",
    "    \n",
    "    return(x)\n",
    "    \n",
    "print(move_zero([0,2,3,4,6,7,10]))\n",
    "# print(move_zero([10,0,11,12,0,14,17]))"
   ]
  },
  {
   "cell_type": "code",
   "execution_count": 3,
   "metadata": {},
   "outputs": [
    {
     "output_type": "stream",
     "name": "stdout",
     "text": [
      "['A', 'A', 'A', 'A', 'B', 'B', 'B', 'C', 'C', 'D', 'A', 'A', 'A']\n7\n"
     ]
    }
   ],
   "source": [
    "#50\n",
    "masuk = 'AAAABBBCCDAAA'\n",
    "b = list(masuk)\n",
    "print(b)\n",
    "a = b.count('A')\n",
    "print(a)"
   ]
  },
  {
   "cell_type": "code",
   "execution_count": 4,
   "metadata": {},
   "outputs": [
    {
     "output_type": "stream",
     "name": "stdout",
     "text": [
      "4A3B2C1D3A\n1P1H1P\n4A3B3C1D2A1B1D4A1C\n"
     ]
    }
   ],
   "source": [
    "def encode_string(str1):\n",
    "    encoded = \"\"\n",
    "    ctr = 1\n",
    "    last_char = str1[0]\n",
    "\n",
    "    for i in range(1, len(str1)):\n",
    "\n",
    "        if last_char == str1[i]:\n",
    "            ctr += 1\n",
    "         \n",
    "        else:\n",
    "            encoded += str(ctr) + last_char\n",
    "            ctr = 0\n",
    "            last_char = str1[i]\n",
    "            ctr += 1\n",
    "    encoded += str(ctr) + last_char\n",
    "    return encoded\n",
    "print(encode_string(\"AAAABBBCCDAAA\")) \n",
    "print(encode_string(\"PHP\"))  \n",
    "print(encode_string(\"AAAABBBCCCDAABDAAAAC\"))"
   ]
  },
  {
   "cell_type": "code",
   "execution_count": null,
   "metadata": {},
   "outputs": [],
   "source": []
  }
 ]
}