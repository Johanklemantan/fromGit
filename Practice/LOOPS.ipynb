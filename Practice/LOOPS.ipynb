{
 "metadata": {
  "language_info": {
   "codemirror_mode": {
    "name": "ipython",
    "version": 3
   },
   "file_extension": ".py",
   "mimetype": "text/x-python",
   "name": "python",
   "nbconvert_exporter": "python",
   "pygments_lexer": "ipython3",
   "version": "3.9.0-final"
  },
  "orig_nbformat": 2,
  "kernelspec": {
   "name": "Python 3.9.0 64-bit",
   "display_name": "Python 3.9.0 64-bit",
   "metadata": {
    "interpreter": {
     "hash": "f895f3828335fe46f73ce365c88adfdf701549b1031659c6fc3c92d79d692c8b"
    }
   }
  }
 },
 "nbformat": 4,
 "nbformat_minor": 2,
 "cells": [
  {
   "cell_type": "code",
   "execution_count": 2,
   "metadata": {},
   "outputs": [
    {
     "output_type": "stream",
     "name": "stdout",
     "text": [
      "[1505, 1540, 1575, 1610, 1645, 1680, 1715, 1750, 1785, 1820, 1855, 1890, 1925, 1960, 1995, 2030, 2065, 2100, 2135, 2170, 2205, 2240, 2275, 2310, 2345, 2380, 2415, 2450, 2485, 2520, 2555, 2590, 2625, 2660, 2695]\n"
     ]
    }
   ],
   "source": [
    "#1\n",
    "ans=[]\n",
    "for i in range(1500,2701):\n",
    "    if i % 7 ==0 and i%5==0:\n",
    "        ans.append(i)\n",
    "    # elif i%5==0:\n",
    "    #     ans.append(i)\n",
    "print(ans)"
   ]
  },
  {
   "cell_type": "code",
   "execution_count": 4,
   "metadata": {},
   "outputs": [
    {
     "output_type": "stream",
     "name": "stdout",
     "text": [
      "50C is 122.0 Farenheit\n50F is 10.0 Celcius\n"
     ]
    }
   ],
   "source": [
    "#2\n",
    "celcius = 50\n",
    "farenheit = 50\n",
    "to_celc = (farenheit-32)*(5/9)\n",
    "to_far = (celcius*9/5)+32\n",
    "print(f'{celcius}C is {to_far} Farenheit')\n",
    "print(f'{farenheit}F is {to_celc} Celcius')"
   ]
  },
  {
   "cell_type": "code",
   "execution_count": 9,
   "metadata": {},
   "outputs": [
    {
     "output_type": "stream",
     "name": "stdout",
     "text": [
      "well guessed\n"
     ]
    }
   ],
   "source": [
    "#3\n",
    "from random import randint\n",
    "a = randint(1,10)\n",
    "def tebak():\n",
    "    \n",
    "    \n",
    "    guess = int(input('masukkin nomer : '))\n",
    "    if guess == a:\n",
    "        print('well guessed')\n",
    "    else:\n",
    "        tebak()\n",
    "tebak()"
   ]
  },
  {
   "cell_type": "code",
   "execution_count": 13,
   "metadata": {},
   "outputs": [
    {
     "output_type": "stream",
     "name": "stdout",
     "text": [
      "\n *\n * *\n * * *\n * * * *\n * * * * *\n * * * *\n * * *\n * *\n *\n"
     ]
    }
   ],
   "source": [
    "#4\n",
    "for i in range(6):\n",
    "    for j in range(0,i):\n",
    "        print(' *',end = '')\n",
    "    print('')\n",
    "for i in range(4):\n",
    "    for j in range(4-i):\n",
    "        print(' *', end = '')\n",
    "    print('')"
   ]
  },
  {
   "cell_type": "code",
   "execution_count": 14,
   "metadata": {},
   "outputs": [
    {
     "output_type": "stream",
     "name": "stdout",
     "text": [
      "ini irah\n"
     ]
    }
   ],
   "source": [
    "#5\n",
    "a = str(input('Masukkan String: '))\n",
    "b = a[::-1]\n",
    "print(b)"
   ]
  },
  {
   "cell_type": "code",
   "execution_count": 19,
   "metadata": {},
   "outputs": [
    {
     "output_type": "stream",
     "name": "stdout",
     "text": [
      "Number of even number:4\nNumber of odd number:5\n"
     ]
    }
   ],
   "source": [
    "#6\n",
    "num = (1,2,3,4,5,6,7,8,9)\n",
    "even =0\n",
    "odd = 0\n",
    "for i in num:\n",
    "    if i%2==0:\n",
    "        even+=1\n",
    "    else:\n",
    "        odd+=1\n",
    "print(f'Number of even number:{even}')\n",
    "print(f'Number of odd number:{odd}')\n"
   ]
  },
  {
   "cell_type": "code",
   "execution_count": 22,
   "metadata": {},
   "outputs": [
    {
     "output_type": "stream",
     "name": "stdout",
     "text": [
      "item 1452 type is<class 'int'>\nitem 11.23 type is<class 'float'>\nitem (1+2j) type is<class 'complex'>\nitem True type is<class 'bool'>\nitem w3resource type is<class 'str'>\nitem (0, -1) type is<class 'tuple'>\nitem [5, 12] type is<class 'list'>\nitem {'class': 'V', 'section': 'A'} type is<class 'dict'>\n"
     ]
    }
   ],
   "source": [
    "#7\n",
    "datalist = [1452, 11.23, 1+2j, True, 'w3resource', (0, -1), [5, 12], {\"class\":'V', \"section\":'A'}]\n",
    "for i in datalist:\n",
    "    print(f'item {i} type is{type(i)}')"
   ]
  },
  {
   "cell_type": "code",
   "execution_count": 28,
   "metadata": {},
   "outputs": [
    {
     "output_type": "stream",
     "name": "stdout",
     "text": [
      "0 1 2 4 5 "
     ]
    }
   ],
   "source": [
    "#8\n",
    "for i in range(0,7):\n",
    "    if i == 3 or i == 6:\n",
    "        continue\n",
    "    else :\n",
    "        print(i,end =' ')"
   ]
  },
  {
   "cell_type": "code",
   "execution_count": 4,
   "metadata": {},
   "outputs": [
    {
     "output_type": "stream",
     "name": "stdout",
     "text": [
      "[0, 1, 1, 2, 3, 5, 8, 13, 21, 34]\n"
     ]
    }
   ],
   "source": [
    "#9\n",
    "\n",
    "def fibo(x):\n",
    "    data =[0,1]\n",
    "    for i in range(2,x):\n",
    "            data.append(data[i-2]+data[i-1])\n",
    "    return data\n",
    "print(fibo(10))"
   ]
  },
  {
   "cell_type": "code",
   "execution_count": 62,
   "metadata": {},
   "outputs": [
    {
     "output_type": "stream",
     "name": "stdout",
     "text": [
      " ***\n*   *\n*   *\n*****\n*   *\n*   *\n*   *\n"
     ]
    }
   ],
   "source": [
    "#17\n",
    "for i in range(0,7):\n",
    "    if i == 0:\n",
    "        print(' ',end = '')\n",
    "        for j in range(0,3):\n",
    "            print('*',end='')\n",
    "        # print('')\n",
    "    if i == 3:\n",
    "        print('',end ='')\n",
    "        for j in range(0,5):\n",
    "            print('*',end='')\n",
    "    if i == 1 or i == 2 or i ==4 or i == 5 or i == 6 :\n",
    "        print('',end='')\n",
    "        for j in range(0,5):\n",
    "            if j == 0 or j ==4:\n",
    "                print('*',end='')\n",
    "            else:\n",
    "                print(' ',end='')\n",
    "            # print(' ')\n",
    "    print('')\n",
    "   \n",
    "    # else:\n",
    "    #     if j == 0 or j == 4:\n",
    "    #         print('*')"
   ]
  },
  {
   "cell_type": "code",
   "execution_count": 12,
   "metadata": {},
   "outputs": [
    {
     "output_type": "stream",
     "name": "stdout",
     "text": [
      "****\n*   *\n*   *\n*   *\n*   *\n*   *\n****\n"
     ]
    }
   ],
   "source": [
    "#18\n",
    "for i in range(0,7):\n",
    "    if i == 0 or i == 6:\n",
    "        for j in range(0,4):\n",
    "            print('*',end='')\n",
    "        print('')\n",
    "    else:\n",
    "        for j in range(0,5):\n",
    "            if j == 0 or j == 4:\n",
    "                print('*',end = '')\n",
    "            else:\n",
    "                print(' ',end = '')\n",
    "        print('')"
   ]
  },
  {
   "cell_type": "code",
   "execution_count": 3,
   "metadata": {},
   "outputs": [
    {
     "output_type": "stream",
     "name": "stdout",
     "text": [
      "*****\n*\n*\n****\n*\n*\n*****\n"
     ]
    }
   ],
   "source": [
    "#19\n",
    "for i in range(0,7):\n",
    "    if i == 0 or i == 6:\n",
    "        for j in range(0,5):\n",
    "            print('*',end = '')\n",
    "        print('')\n",
    "    if i == 3:\n",
    "        for j in range(0,4):\n",
    "            print('*',end = '')\n",
    "        print('')\n",
    "    elif i == 1 or i == 2 or i == 4 or i ==5 :\n",
    "        for j in range(1):\n",
    "            print('*')"
   ]
  },
  {
   "cell_type": "code",
   "execution_count": 37,
   "metadata": {},
   "outputs": [
    {
     "output_type": "stream",
     "name": "stdout",
     "text": [
      " ***\n*   * \n*\n* ***\n*   * \n*   * \n ***\n"
     ]
    }
   ],
   "source": [
    "#20\n",
    "for i in range(0,7):\n",
    "    \n",
    "    if i == 1 or i == 4 or i == 5:\n",
    "        for j in range(0,4):\n",
    "            if j == 0 or j == 3:\n",
    "                print('*',end='')\n",
    "            print(' ',end='')\n",
    "        print('')\n",
    "    if i == 3:\n",
    "        for j in range(0,5):\n",
    "            if j == 1:\n",
    "                print(' ',end='')\n",
    "            else:\n",
    "                print('*',end = '')\n",
    "            print('',end='')\n",
    "        print('')\n",
    "    if i == 0 or i ==6 :\n",
    "        print(' ',end='')\n",
    "        for j in range(1,4):\n",
    "            print('*',end='')\n",
    "        print('')\n",
    "    if i == 2:\n",
    "        print('*')\n",
    "        \n",
    "  "
   ]
  },
  {
   "cell_type": "code",
   "execution_count": 21,
   "metadata": {},
   "outputs": [
    {
     "output_type": "stream",
     "name": "stdout",
     "text": [
      "            = *\n          = = = *\n        = = = = = *\n      = = = = = = = *\n    = = = = = = = = = *\n      = = = = = = = *\n        = = = = = *\n          = = = *\n            = *\n"
     ]
    }
   ],
   "source": [
    "#hollow segitiga raissa\n",
    "n = int(input('mau berapa segitiga ? '))\n",
    "if n % 2 == 0:\n",
    "    a = n//2\n",
    "else:\n",
    "    a = (n//2)+1\n",
    "# print(a)\n",
    "for i in range(0,a):\n",
    "    if i == 0:\n",
    "        print('  '*(a),' =','*')\n",
    "    else:\n",
    "        print('  '*(a-i),' ='*((i*2)+1),'*')\n",
    "for i in reversed(range(0,a)):\n",
    "    if i == 0:\n",
    "        print('  '*(a),' =','*')\n",
    "    elif i == (a-1):\n",
    "        continue\n",
    "    else:\n",
    "        print('  '*(a-i),' ='*((i*2)+1),'*')"
   ]
  },
  {
   "cell_type": "code",
   "execution_count": 1,
   "metadata": {},
   "outputs": [
    {
     "output_type": "stream",
     "name": "stdout",
     "text": [
      "_____#_____\n____#_#____\n___#___#___\n__#_____#__\n_#_______#_\n###########\n"
     ]
    }
   ],
   "source": [
    "def hollowTriangel(angka) :\n",
    "\n",
    "    if type(angka) != int :\n",
    "        return 'Just input number'\n",
    "    else :\n",
    "        bintang = ''\n",
    "        for a in range(0,angka) :\n",
    "            if a == angka-1 :\n",
    "                bintang += '#'*(angka*2-1)\n",
    "            elif a == 0 :\n",
    "                bintang += '_'*(angka-a-1) + '#' + '_'*(angka-a-1) + '\\n'\n",
    "            else :\n",
    "                bintang += '_'*(angka-a-1) + '#' + '_'*(a*2-1) + '#' + '_'*(angka-a-1) + '\\n'\n",
    "\n",
    "        return bintang\n",
    "\n",
    "print(hollowTriangel(6))"
   ]
  },
  {
   "cell_type": "code",
   "execution_count": 57,
   "metadata": {},
   "outputs": [
    {
     "output_type": "stream",
     "name": "stdout",
     "text": [
      "---- * \n-- * - * \n- * --- * \n * ----- * \n- * --- * \n-- * - * \n---- * \n"
     ]
    }
   ],
   "source": [
    "# n = int(input('mau berapa segitiga ? '))\n",
    "# if n % 2 == 0:\n",
    "#     a = n//2\n",
    "# else:\n",
    "#     a = (n//2)+1\n",
    "for i in range(0,4):\n",
    "    if i == 0:\n",
    "        print('-'*4+' * ')\n",
    "    else:\n",
    "        print('-'*(3-i)+' * '+'-'*((i*2)-1)+' * ')\n",
    "for i in reversed(range(0,4)):\n",
    "    if i == 0:\n",
    "        print('-'*4+' * ')\n",
    "    elif i == 3:\n",
    "        continue\n",
    "    else:\n",
    "        print('-'*(3-i)+' * '+'-'*((i*2)-1)+' * ')"
   ]
  },
  {
   "cell_type": "code",
   "execution_count": null,
   "metadata": {},
   "outputs": [],
   "source": []
  }
 ]
}