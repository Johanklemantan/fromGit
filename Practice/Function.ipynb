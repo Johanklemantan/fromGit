{
 "metadata": {
  "language_info": {
   "codemirror_mode": {
    "name": "ipython",
    "version": 3
   },
   "file_extension": ".py",
   "mimetype": "text/x-python",
   "name": "python",
   "nbconvert_exporter": "python",
   "pygments_lexer": "ipython3",
   "version": "3.9.0-final"
  },
  "orig_nbformat": 2,
  "kernelspec": {
   "name": "Python 3.9.0 64-bit",
   "display_name": "Python 3.9.0 64-bit",
   "metadata": {
    "interpreter": {
     "hash": "f895f3828335fe46f73ce365c88adfdf701549b1031659c6fc3c92d79d692c8b"
    }
   }
  }
 },
 "nbformat": 4,
 "nbformat_minor": 2,
 "cells": [
  {
   "cell_type": "code",
   "execution_count": 5,
   "metadata": {},
   "outputs": [
    {
     "output_type": "stream",
     "name": "stdout",
     "text": [
      "11\n10\n9\n8\n7\n6\n5\n4\n3\n2\n1\n[1, 3, 9, 34, 198, 200, 203, 746, 764, 984, 6000]\n"
     ]
    }
   ],
   "source": [
    "x = [6000, 34, 203, 3, 746, 200, 984, 198, 764, 9, 1]\n",
    "#0[6000,34,203,3,746,200,984,198,764,9,1]\n",
    "#1[34,6000,203,3,746,200,984,198,764,9,1]\n",
    "#2[34,203,6000,3,746,200,984,198,764,9,1]\n",
    "#3[34,203,3,6000,746,200,984,198,764,9,1]\n",
    "#4[34,3,203,746,6000,200,984,198,764,9,1]\n",
    "#5[3,34,203,746,200,6000,984,198,764,9,1]\n",
    "#6[3,34,203,200,746,984,6000,198,764,9,1]\n",
    "#7[3,34,200,203,746,984,198,6000,764,9,1]\n",
    "#8[3,34,200,203,746,198,984,764,6000,9,1]\n",
    "#9[3,34,200,203,198,746,764,984,9,6000,1]\n",
    "#\n",
    "def bubbleSort(list) :\n",
    "    for i in range(len(list),0, -1) :\n",
    "        print(i)\n",
    "        for j in range(0,i-1) :\n",
    "            if (list[j] > list[j + 1]) :\n",
    "                temp = list[j]\n",
    "                list[j] = list[j + 1]\n",
    "                list[j + 1] = temp\n",
    "    return list\n",
    "print(bubbleSort(x))"
   ]
  },
  {
   "cell_type": "code",
   "execution_count": 8,
   "metadata": {},
   "outputs": [
    {
     "output_type": "execute_result",
     "data": {
      "text/plain": [
       "14314"
      ]
     },
     "metadata": {},
     "execution_count": 8
    }
   ],
   "source": [
    "#FUNCTION NO 1\n",
    "def maximum(x):\n",
    "    return max(x)\n",
    "maximum([3343,32,14314])"
   ]
  },
  {
   "cell_type": "code",
   "execution_count": 9,
   "metadata": {},
   "outputs": [
    {
     "output_type": "execute_result",
     "data": {
      "text/plain": [
       "21"
      ]
     },
     "metadata": {},
     "execution_count": 9
    }
   ],
   "source": [
    "#FUNCTION NO 2\n",
    "def jumlah(x):\n",
    "    return sum(x)\n",
    "jumlah([10,3,4,3,1])"
   ]
  },
  {
   "cell_type": "code",
   "execution_count": 20,
   "metadata": {},
   "outputs": [
    {
     "output_type": "stream",
     "name": "stdout",
     "text": [
      "-210\n"
     ]
    }
   ],
   "source": [
    "#FUNCTION NO 3\n",
    "import math\n",
    "def kali(x):\n",
    "    return math.prod(x) #prod untuk kali\n",
    "kali([1,2,3,4,-8])\n",
    "\n",
    "#atau \n",
    "def kali2(x):\n",
    "    total = 1\n",
    "    for i in x:\n",
    "        total *= i\n",
    "    return total\n",
    "print(kali2([1,2,3,7,-5]))"
   ]
  },
  {
   "cell_type": "code",
   "execution_count": 24,
   "metadata": {},
   "outputs": [
    {
     "output_type": "execute_result",
     "data": {
      "text/plain": [
       "'dcba4321'"
      ]
     },
     "metadata": {},
     "execution_count": 24
    }
   ],
   "source": [
    "#FUNCTION NO 4\n",
    "def reverse_string(z):\n",
    "    return z[::-1]\n",
    "reverse_string('1234abcd')"
   ]
  },
  {
   "cell_type": "code",
   "execution_count": 29,
   "metadata": {},
   "outputs": [
    {
     "output_type": "stream",
     "name": "stdout",
     "text": [
      "2\n720\n1307674368000\n"
     ]
    }
   ],
   "source": [
    "#FUNCTION NO 5\n",
    "def factorial(x):\n",
    "    total = 1\n",
    "    for i in range(1,x+1):\n",
    "        total *=i\n",
    "    return total\n",
    "print(factorial(2))\n",
    "print(factorial(6))\n",
    "print(factorial(15))\n"
   ]
  },
  {
   "cell_type": "code",
   "execution_count": 48,
   "metadata": {},
   "outputs": [
    {
     "output_type": "execute_result",
     "data": {
      "text/plain": [
       "False"
      ]
     },
     "metadata": {},
     "execution_count": 48
    }
   ],
   "source": [
    "#FUNCTION NO 6\n",
    "def checker(a):\n",
    "    if a in range(1,11):\n",
    "        return True\n",
    "    else:\n",
    "        return False\n",
    "checker(55)\n"
   ]
  },
  {
   "cell_type": "code",
   "execution_count": 68,
   "metadata": {},
   "outputs": [
    {
     "output_type": "stream",
     "name": "stdout",
     "text": [
      "No of Upper case characters : 3\nNo of Lower case characters : 13\n"
     ]
    }
   ],
   "source": [
    "#FUNCTION NO 7\n",
    "def high(x):\n",
    "    gede = 0\n",
    "    kecil = 0\n",
    "    for i in x:\n",
    "        if i.isupper():\n",
    "            gede+=1\n",
    "        elif i.islower():\n",
    "            kecil +=1\n",
    "    print('No of Upper case characters :', gede)\n",
    "    print('No of Lower case characters :', kecil)\n",
    "high('The quick Brown Fox')"
   ]
  },
  {
   "cell_type": "code",
   "execution_count": 10,
   "metadata": {},
   "outputs": [
    {
     "output_type": "stream",
     "name": "stdout",
     "text": [
      "[1, 2, 3, 4, 5, 7]\n"
     ]
    }
   ],
   "source": [
    "#FUNCTION NO 8\n",
    "def sample(x):\n",
    "    unique=[]\n",
    "    for i in x:\n",
    "        if i not in unique:\n",
    "            unique.append(i)\n",
    "        else:\n",
    "            continue\n",
    "    print(unique)\n",
    "sample([1,2,3,3,3,3,4,5,5,5,7])\n"
   ]
  },
  {
   "cell_type": "code",
   "execution_count": 16,
   "metadata": {},
   "outputs": [
    {
     "output_type": "stream",
     "name": "stdout",
     "text": [
      "2 is a prime number\n5 is not a prime number\n11 is a prime number\n7 is a prime number\n1 is not a prime number\n9 is not a prime number\n"
     ]
    }
   ],
   "source": [
    "#FUNCTION NO 9\n",
    "def prime(x):\n",
    "    if x == 1 :\n",
    "        print(f'{x} is not a prime number')\n",
    "    elif x==2:\n",
    "        print(f'{x} is a prime number')\n",
    "    else:\n",
    "        if x % 2== 0:\n",
    "            print(f'{x} is not a prime number')\n",
    "        elif x%3==0:\n",
    "            print(f'{x} is not a prime number')\n",
    "        elif x%5==0:\n",
    "            print(f'{x} is not a prime number')\n",
    "        else:\n",
    "            print(f'{x} is a prime number')\n",
    "prime(2)\n",
    "prime(5)\n",
    "prime(11)\n",
    "prime(7)\n",
    "prime(1)\n",
    "prime(9)\n",
    "\n"
   ]
  },
  {
   "cell_type": "code",
   "execution_count": 20,
   "metadata": {},
   "outputs": [
    {
     "output_type": "stream",
     "name": "stdout",
     "text": [
      "[2, 4, 6, 8]\n"
     ]
    }
   ],
   "source": [
    "#FUNCTION NO 10\n",
    "def even(x):\n",
    "    expected=[]\n",
    "    for i in x:\n",
    "        if i%2==0:\n",
    "            expected.append(i)\n",
    "    print(expected)\n",
    "even([1,2,3,4,5,6,7,8])\n"
   ]
  },
  {
   "cell_type": "code",
   "execution_count": 29,
   "metadata": {},
   "outputs": [
    {
     "output_type": "stream",
     "name": "stdout",
     "text": [
      "6 is a perfect number\n[1, 2, 3]\n496 is a perfect number\n[1, 2, 4, 8, 16, 31, 62, 124, 248]\n15 is not a perfect number\n[1, 3, 5]\n8128 is a perfect number\n[1, 2, 4, 8, 16, 32, 64, 127, 254, 508, 1016, 2032, 4064]\n4 is not a perfect number\n[1, 2]\n"
     ]
    }
   ],
   "source": [
    "#FUNCTION NO 11\n",
    "def perfect(x):\n",
    "    KPK=[]\n",
    "    for i in range(1,x):\n",
    "        if x%i==0:\n",
    "            KPK.append(i)\n",
    "    if sum(KPK) ==x:\n",
    "        print(f'{x} is a perfect number')\n",
    "    else:\n",
    "        print(f'{x} is not a perfect number')\n",
    "    print(KPK)\n",
    "perfect(6)\n",
    "perfect(496)\n",
    "perfect(15)\n",
    "perfect(8128)\n",
    "perfect(4)\n",
    "\n",
    "\n"
   ]
  },
  {
   "cell_type": "code",
   "execution_count": 39,
   "metadata": {},
   "outputs": [
    {
     "output_type": "stream",
     "name": "stdout",
     "text": [
      "madam is a palindrome\nmie goreng is not a palindrome\nnursesrun is a palindrome\n"
     ]
    }
   ],
   "source": [
    "#FUNCTION NO 12\n",
    "def palindrome(x):\n",
    "    a=list(x)\n",
    "    if a[0:]==a[::-1]:\n",
    "        print(f'{x} is a palindrome')\n",
    "    else:\n",
    "        print(f'{x} is not a palindrome')\n",
    "palindrome('madam')\n",
    "palindrome('mie goreng')\n",
    "palindrome('nursesrun')"
   ]
  },
  {
   "cell_type": "code",
   "execution_count": 46,
   "metadata": {},
   "outputs": [
    {
     "output_type": "stream",
     "name": "stdout",
     "text": [
      "      1\n     1 1\n    1 1 1\n   1 1 1 1\n  1 1 1 1 1\n"
     ]
    }
   ],
   "source": [
    "#FUNCTION NO 13\n",
    "def pascal(x):\n",
    "    a=1\n",
    "    for i in range(1,x+1):\n",
    "        print(' '*(x-i),' 1'*i)\n",
    "    \n",
    "pascal(5)\n",
    "        \n",
    "        "
   ]
  },
  {
   "cell_type": "code",
   "execution_count": 54,
   "metadata": {},
   "outputs": [
    {
     "output_type": "stream",
     "name": "stdout",
     "text": [
      "[1]\n[1, 1]\n[1, 2, 1]\n[1, 3, 3, 1]\n[1, 4, 6, 4, 1]\n[1, 5, 10, 10, 5, 1]\n"
     ]
    },
    {
     "output_type": "execute_result",
     "data": {
      "text/plain": [
       "True"
      ]
     },
     "metadata": {},
     "execution_count": 54
    }
   ],
   "source": [
    "def pascal_triangle(n):\n",
    "   trow = [1]\n",
    "   y = [0]\n",
    "   for x in range(max(n,0)):\n",
    "      print(trow)\n",
    "    #   print(x)\n",
    "      trow=[l+r for l,r in zip(trow+y, y+trow)]\n",
    "        \n",
    "   return n>=1\n",
    "pascal_triangle(6)"
   ]
  },
  {
   "cell_type": "code",
   "execution_count": 68,
   "metadata": {},
   "outputs": [
    {
     "output_type": "execute_result",
     "data": {
      "text/plain": [
       "[[1], [1, 1], [1, 2, 1]]"
      ]
     },
     "metadata": {},
     "execution_count": 68
    }
   ],
   "source": [
    "def pascal(n):\n",
    "    a=[[]for i in range(n)]\n",
    "    for i in range(n):\n",
    "        for j in range(i+1): # untuk membuat i dan j sama.\n",
    "            if i>j:\n",
    "                if j==0:\n",
    "                    a[i].append(1)\n",
    "                else:\n",
    "                    a[i].append(a[i-1][j]+a[i-1][j-1])        \n",
    "            elif i==j:\n",
    "                a[i].append(1)\n",
    "    return a\n",
    "pascal(3)"
   ]
  },
  {
   "cell_type": "code",
   "execution_count": 110,
   "metadata": {},
   "outputs": [
    {
     "output_type": "stream",
     "name": "stdout",
     "text": [
      "The quick brown fox jumps over the lazy dog is a pangram\nHello from the otehr side is not a pangram\nABCDEFGHIJKLMNOPQRSTUVWXYZRJIERJOI is a pangram\n"
     ]
    }
   ],
   "source": [
    "#FUNCTION NO 14\n",
    "def pangram(x):\n",
    "    y=x.lower()\n",
    "    z=y.replace(' ','')\n",
    "   \n",
    "    a='abcdefghijklmnopqrstuvwxyz'\n",
    "    b=list(a)\n",
    "    c=list(z)\n",
    "    d=c.sort(reverse=False)\n",
    "    aa=[]\n",
    "    for i in c:\n",
    "        if i not in aa:\n",
    "            aa.append(i)\n",
    "        else:\n",
    "            continue\n",
    "    # print('aa',aa)       \n",
    "    if aa==b:\n",
    "        print(f'{x} is a pangram')\n",
    "    else:\n",
    "        print(f'{x} is not a pangram')\n",
    "    # print('y',y)\n",
    "    # print('z',z)\n",
    "    # print('a',a)\n",
    "    # print('b',b)\n",
    "    # print('c',c)\n",
    "    # print('d',d)\n",
    "    # print('e',e)\n",
    "pangram('The quick brown fox jumps over the lazy dog')\n",
    "pangram('Hello from the otehr side')\n",
    "pangram('ABCDEFGHIJKLMNOPQRSTUVWXYZRJIERJOI')"
   ]
  },
  {
   "cell_type": "code",
   "execution_count": 119,
   "metadata": {},
   "outputs": [
    {
     "output_type": "stream",
     "name": "stdout",
     "text": [
      "a green-red-yellow-black-white\nc ['black', 'green', 'red', 'white', 'yellow']\ne black-green-red-white-yellow\n"
     ]
    }
   ],
   "source": [
    "#FUNCTION NO 15\n",
    "def hypen(x):\n",
    "    a=x.lower()\n",
    "    # b=a.replace('-',' ')\n",
    "    c=a.split('-')\n",
    "    d=c.sort(reverse=False)\n",
    "    e=\"-\".join(c)\n",
    "    print('a',a)\n",
    "    # print('b',b)\n",
    "    print('c',c)\n",
    "    print('e',e)\n",
    "hypen('green-red-yellow-black-white')"
   ]
  },
  {
   "cell_type": "code",
   "execution_count": 139,
   "metadata": {},
   "outputs": [
    {
     "output_type": "stream",
     "name": "stdout",
     "text": [
      "[1, 4, 9, 16, 25, 36, 49, 64, 81, 100, 121, 144, 169, 196, 225, 256, 289, 324, 361, 400, 441, 484, 529, 576, 625, 676, 729, 784, 841, 900]\n"
     ]
    }
   ],
   "source": [
    "#FUNCTION NO 16\n",
    "def square(x):\n",
    "    l=list()\n",
    "    for i in list(range(1,x+1)):\n",
    "        a=i**2\n",
    "        l.append(a)\n",
    "    print(l)\n",
    "square(30)"
   ]
  },
  {
   "cell_type": "code",
   "execution_count": 143,
   "metadata": {},
   "outputs": [
    {
     "output_type": "error",
     "ename": "SyntaxError",
     "evalue": "invalid syntax (<ipython-input-143-1ac8dd203110>, line 3)",
     "traceback": [
      "\u001b[1;36m  File \u001b[1;32m\"<ipython-input-143-1ac8dd203110>\"\u001b[1;36m, line \u001b[1;32m3\u001b[0m\n\u001b[1;33m    print(<b>,x,</b>)\u001b[0m\n\u001b[1;37m          ^\u001b[0m\n\u001b[1;31mSyntaxError\u001b[0m\u001b[1;31m:\u001b[0m invalid syntax\n"
     ]
    }
   ],
   "source": [
    "#FUNCTION NO 17 (tidak jelass)\n",
    "def decorator(x):\n",
    "    print(<b>,x,</b>)\n",
    "    # print(x,italic=True)\n",
    "    # print(x,underline=True)\n",
    "decorator('Hello')"
   ]
  },
  {
   "cell_type": "code",
   "execution_count": 144,
   "metadata": {},
   "outputs": [
    {
     "output_type": "stream",
     "name": "stdout",
     "text": [
      "<b><i><u>hello world</u></i></b>\n"
     ]
    }
   ],
   "source": [
    "def make_bold(fn):\n",
    "    def wrapped():\n",
    "        return \"<b>\" + fn() + \"</b>\"\n",
    "    return wrapped\n",
    "\n",
    "def make_italic(fn):\n",
    "    def wrapped():\n",
    "        return \"<i>\" + fn() + \"</i>\"\n",
    "    return wrapped\n",
    "\n",
    "def make_underline(fn):\n",
    "    def wrapped():\n",
    "        return \"<u>\" + fn() + \"</u>\"\n",
    "    return wrapped\n",
    "@make_bold\n",
    "@make_italic\n",
    "@make_underline\n",
    "def hello():\n",
    "    return \"hello world\"\n",
    "print(hello()) ## returns \"<b><i><u>hello world</u></i></b>\""
   ]
  },
  {
   "cell_type": "code",
   "execution_count": null,
   "metadata": {},
   "outputs": [],
   "source": [
    "#FUNCTION NO 18-20\n",
    "# GAJELAS\n"
   ]
  }
 ]
}