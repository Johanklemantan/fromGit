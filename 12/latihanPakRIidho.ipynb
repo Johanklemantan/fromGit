{
 "metadata": {
  "language_info": {
   "codemirror_mode": {
    "name": "ipython",
    "version": 3
   },
   "file_extension": ".py",
   "mimetype": "text/x-python",
   "name": "python",
   "nbconvert_exporter": "python",
   "pygments_lexer": "ipython3",
   "version": "3.9.0-final"
  },
  "orig_nbformat": 2,
  "kernelspec": {
   "name": "Python 3.9.0 64-bit",
   "display_name": "Python 3.9.0 64-bit",
   "metadata": {
    "interpreter": {
     "hash": "f895f3828335fe46f73ce365c88adfdf701549b1031659c6fc3c92d79d692c8b"
    }
   }
  }
 },
 "nbformat": 4,
 "nbformat_minor": 2,
 "cells": [
  {
   "cell_type": "code",
   "execution_count": 14,
   "metadata": {},
   "outputs": [
    {
     "output_type": "stream",
     "name": "stdout",
     "text": [
      "masukkan angka: 5\n  1\n  1  2\n  1  2  3\n  1  2  3  4\n  1  2  3  4  5\n"
     ]
    }
   ],
   "source": [
    "n=int(input('masukkan angka: '))\n",
    "print(f'masukkan angka: {n}')\n",
    "for i in range(1,n+1):\n",
    "    for j in range (i):\n",
    "        print(f'  {j+1}',end='')\n",
    "    print('')\n"
   ]
  },
  {
   "cell_type": "code",
   "execution_count": 12,
   "metadata": {},
   "outputs": [
    {
     "output_type": "stream",
     "name": "stdout",
     "text": [
      "masukkan angka: 5\n  1  2  3  4  5\n  1  2  3  4\n  1  2  3\n  1  2\n  1\n"
     ]
    }
   ],
   "source": [
    "n=int(input('masukkan angka: '))\n",
    "print(f'masukkan angka: {n}')\n",
    "for i in reversed(range(1,n+1)):\n",
    "    for j in range (i):\n",
    "        print(f'  {j+1}',end='')\n",
    "    print('')"
   ]
  },
  {
   "cell_type": "code",
   "execution_count": 11,
   "metadata": {},
   "outputs": [
    {
     "output_type": "stream",
     "name": "stdout",
     "text": [
      "masukkan angka: 5\n  1\n  1  2\n  1  2  3\n  1  2  3  4\n  1  2  3  4  5\n  1  2  3  4\n  1  2  3\n  1  2\n  1\n"
     ]
    }
   ],
   "source": [
    "n=int(input('masukkan angka: '))\n",
    "print(f'masukkan angka: {n}')\n",
    "for i in range(1,n+1):\n",
    "    for j in range (i):\n",
    "        print(f'  {j+1}',end='')\n",
    "    print('')\n",
    "for i in reversed(range(1,n+1)):\n",
    "    if i == 5:\n",
    "        continue\n",
    "    else:\n",
    "        for j in range (i):\n",
    "            print(f'  {j+1}',end='')\n",
    "    print('')"
   ]
  },
  {
   "cell_type": "code",
   "execution_count": 55,
   "metadata": {},
   "outputs": [
    {
     "output_type": "stream",
     "name": "stdout",
     "text": [
      "Hey wollef sroirraw\nThis is a test\nThis is rehtona test\nHari ini saya nakukalem nataigek rajalb di akihdawrup\n"
     ]
    }
   ],
   "source": [
    "def spinWords(string):\n",
    "    a = string.split()\n",
    "    # print('a',a)\n",
    "    hasil = []\n",
    "    # akhir = ' '.join(hasil)\n",
    "    for i in a:\n",
    "        if len(i)>=5:\n",
    "            hasil.append(i[::-1])\n",
    "            \n",
    "        else:\n",
    "            hasil.append(i)\n",
    "    akhir = ' '.join(hasil)\n",
    "    # print(hasil)\n",
    "    print(akhir)\n",
    "    # print(akhir)\n",
    "\n",
    "\n",
    "spinWords('Hey fellow warriors')\n",
    "spinWords('This is a test')\n",
    "spinWords('This is another test')\n",
    "spinWords('Hari ini saya melakukan kegiatan blajar di purwadhika')"
   ]
  },
  {
   "cell_type": "code",
   "execution_count": 52,
   "metadata": {},
   "outputs": [
    {
     "output_type": "stream",
     "name": "stdout",
     "text": [
      "['hello', 'world']\n['olleh', 'dlrow']\nolleh dlrow\n"
     ]
    }
   ],
   "source": [
    "a = 'hello world'\n",
    "b = a.split()\n",
    "print(b)\n",
    "c=[]\n",
    "for i in b:\n",
    "    if len(i)>=5:\n",
    "        c.append(i[::-1])\n",
    "    else:\n",
    "        c.append(i)\n",
    "print(c)\n",
    "d = ' '.join(c)\n",
    "print(d)"
   ]
  },
  {
   "cell_type": "code",
   "execution_count": null,
   "metadata": {},
   "outputs": [],
   "source": []
  }
 ]
}